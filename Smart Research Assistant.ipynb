{
  "nbformat": 4,
  "nbformat_minor": 0,
  "metadata": {
    "colab": {
      "provenance": []
    },
    "kernelspec": {
      "name": "python3",
      "display_name": "Python 3"
    },
    "language_info": {
      "name": "python"
    }
  },
  "cells": [
    {
      "cell_type": "code",
      "execution_count": null,
      "metadata": {
        "id": "jl4AcTty0uua"
      },
      "outputs": [],
      "source": [
        "%%capture --no-stderr\n",
        "%pip install --quiet -U langgraph langchain_google-genai langchain_community langchain_core tavily-python wikipedia langchain_groq langchain-openai arxiv pymupdf"
      ]
    },
    {
      "cell_type": "code",
      "source": [
        "import os\n",
        "from google.colab import userdata\n",
        "os.environ['OPENAI_API_KEY'] = userdata.get('OPENAI_API_KEY')\n",
        "os.environ['GROQ_API_KEY'] = userdata.get('GROQ_API_KEY')\n",
        "os.environ['LANGCHAIN_API_KEY'] = userdata.get('LANGCHAIN_API_KEY')\n",
        "os.environ[\"LANGCHAIN_TRACING_V2\"] = \"true\"\n",
        "os.environ[\"LANGCHAIN_PROJECT\"] = \"PRAC1\"\n",
        "os.environ[\"TAVILY_API_KEY\"] = userdata.get('TAVILY_API_KEY')\n",
        "os.environ['GOOGLE_API_KEY'] = userdata.get('GOOGLE_API_KEY')\n",
        "\n"
      ],
      "metadata": {
        "id": "DXWQVkZO07j2"
      },
      "execution_count": 1,
      "outputs": []
    },
    {
      "cell_type": "code",
      "source": [
        "from langchain_groq import ChatGroq\n",
        "from langchain_openai import ChatOpenAI\n",
        "from langchain_google_genai import ChatGoogleGenerativeAI\n",
        "llm = ChatOpenAI(model_name = 'gpt-4o')"
      ],
      "metadata": {
        "id": "q7dy0_Jp1NdL"
      },
      "execution_count": 2,
      "outputs": []
    },
    {
      "cell_type": "code",
      "source": [
        "llm.invoke('what is the capital of france')"
      ],
      "metadata": {
        "colab": {
          "base_uri": "https://localhost:8080/"
        },
        "id": "KAqHvGCj4C1-",
        "outputId": "7028c79b-fea6-474a-cac0-48b3fffba774"
      },
      "execution_count": 3,
      "outputs": [
        {
          "output_type": "execute_result",
          "data": {
            "text/plain": [
              "AIMessage(content='The capital of France is Paris.', additional_kwargs={'refusal': None}, response_metadata={'token_usage': {'completion_tokens': 8, 'prompt_tokens': 13, 'total_tokens': 21, 'completion_tokens_details': {'accepted_prediction_tokens': 0, 'audio_tokens': 0, 'reasoning_tokens': 0, 'rejected_prediction_tokens': 0}, 'prompt_tokens_details': {'audio_tokens': 0, 'cached_tokens': 0}}, 'model_name': 'gpt-4o-2024-08-06', 'system_fingerprint': 'fp_eb9dce56a8', 'finish_reason': 'stop', 'logprobs': None}, id='run-0470ec4c-4f49-4922-b106-1b0f8312640b-0', usage_metadata={'input_tokens': 13, 'output_tokens': 8, 'total_tokens': 21, 'input_token_details': {'audio': 0, 'cache_read': 0}, 'output_token_details': {'audio': 0, 'reasoning': 0}})"
            ]
          },
          "metadata": {},
          "execution_count": 3
        }
      ]
    },
    {
      "cell_type": "code",
      "source": [],
      "metadata": {
        "id": "7e8AscpC779_"
      },
      "execution_count": 3,
      "outputs": []
    },
    {
      "cell_type": "code",
      "source": [
        "from typing import List\n",
        "from typing_extensions import TypedDict\n",
        "from pydantic import BaseModel, Field\n",
        "\n",
        "class Analyst(BaseModel):\n",
        "    affiliation: str = Field(\n",
        "        description=\"Primary affiliation of the analyst.\",\n",
        "    )\n",
        "    name: str = Field(\n",
        "        description=\"Name of the analyst.\"\n",
        "    )\n",
        "    role: str = Field(\n",
        "        description=\"Role of the analyst in the context of the topic.\",\n",
        "    )\n",
        "    description: str = Field(\n",
        "        description=\"Description of the analyst focus, concerns, and motives.\",\n",
        "    )\n",
        "\n",
        "    @property\n",
        "    def persona(self) -> str:\n",
        "        return f\"Name: {self.name}\\nRole: {self.role}\\nAffiliation: {self.affiliation}\\nDescription: {self.description}\\n\"\n",
        "\n",
        "class Perspectives(BaseModel):\n",
        "    analysts: List[Analyst] = Field(\n",
        "        description=\"Comprehensive list of analysts with their roles and affiliations.\",\n",
        "    )\n",
        "\n",
        "class GenerateAnalystsState(TypedDict):\n",
        "    topic: str # Research topic\n",
        "    max_analysts: int # Number of analysts\n",
        "    human_analyst_feedback: str # Human feedback\n",
        "    analysts: List[Analyst] # Analyst asking questions"
      ],
      "metadata": {
        "id": "QYUUXS_W1fOB"
      },
      "execution_count": 4,
      "outputs": []
    },
    {
      "cell_type": "code",
      "source": [
        "from IPython.display import Image, display\n",
        "from langgraph.graph import START, END, StateGraph\n",
        "from langgraph.checkpoint.memory import MemorySaver\n",
        "from langchain_core.messages import AIMessage, HumanMessage, SystemMessage\n",
        "\n",
        "analyst_instructions=\"\"\"You are tasked with creating a set of AI analyst personas. Follow these instructions carefully:\n",
        "\n",
        "1. First, review the research topic:\n",
        "{topic}\n",
        "\n",
        "2. Examine any editorial feedback that has been optionally provided to guide creation of the analysts:\n",
        "\n",
        "{human_analyst_feedback}\n",
        "\n",
        "3. Determine the most interesting themes based upon documents and / or feedback above.\n",
        "\n",
        "4. Pick the top {max_analysts} themes.\n",
        "\n",
        "5. Assign one analyst to each theme.\"\"\"\n",
        "\n",
        "def create_analysts(state: GenerateAnalystsState):\n",
        "\n",
        "    \"\"\" Create analysts \"\"\"\n",
        "\n",
        "    topic=state['topic']\n",
        "    max_analysts=state['max_analysts']\n",
        "    human_analyst_feedback=state.get('human_analyst_feedback', '')\n",
        "\n",
        "    # Enforce structured output\n",
        "    structured_llm = llm.with_structured_output(Perspectives)\n",
        "\n",
        "    # System message\n",
        "    system_message = analyst_instructions.format(topic=topic,\n",
        "                                                            human_analyst_feedback=human_analyst_feedback,\n",
        "                                                            max_analysts=max_analysts)\n",
        "\n",
        "    # Generate question\n",
        "    analysts = structured_llm.invoke([SystemMessage(content=system_message)]+[HumanMessage(content=\"Generate the set of analysts.\")])\n",
        "\n",
        "    # Write the list of analysis to state\n",
        "    return {\"analysts\": analysts.analysts}\n",
        "\n",
        "def human_feedback(state: GenerateAnalystsState):\n",
        "    \"\"\" No-op node that should be interrupted on \"\"\"\n",
        "    pass\n",
        "\n",
        "def should_continue(state: GenerateAnalystsState):\n",
        "    \"\"\" Return the next node to execute \"\"\"\n",
        "\n",
        "    # Check if human feedback\n",
        "    human_analyst_feedback=state.get('human_analyst_feedback', None)\n",
        "    if human_analyst_feedback:\n",
        "        return \"create_analysts\"\n",
        "\n",
        "    # Otherwise end\n",
        "    return END\n",
        "\n",
        "# Add nodes and edges\n",
        "builder = StateGraph(GenerateAnalystsState)\n",
        "builder.add_node(\"create_analysts\", create_analysts)\n",
        "builder.add_node(\"human_feedback\", human_feedback)\n",
        "builder.add_edge(START, \"create_analysts\")\n",
        "builder.add_edge(\"create_analysts\", \"human_feedback\")\n",
        "builder.add_conditional_edges(\"human_feedback\", should_continue, [\"create_analysts\", END])\n",
        "\n",
        "# Compile\n",
        "memory = MemorySaver()\n",
        "graph = builder.compile(interrupt_before=['human_feedback'], checkpointer=memory)\n",
        "\n",
        "# View\n",
        "display(Image(graph.get_graph(xray=1).draw_mermaid_png()))"
      ],
      "metadata": {
        "colab": {
          "base_uri": "https://localhost:8080/",
          "height": 392
        },
        "id": "Tjod-Ijq4xMG",
        "outputId": "0c5ecb08-0d59-4df7-e908-675d1f3cdba4"
      },
      "execution_count": 5,
      "outputs": [
        {
          "output_type": "display_data",
          "data": {
            "image/png": "[encoded data removed]",
            "text/plain": [
              "<IPython.core.display.Image object>"
            ]
          },
          "metadata": {}
        }
      ]
    },
    {
      "cell_type": "code",
      "source": [
        "max_analysts = 3\n",
        "topic = \"The benefits of adopting LangGraph as an agent framework\"\n",
        "thread = {\"configurable\": {\"thread_id\": \"1\"}}\n",
        "\n",
        "# Run the graph until the first interruption\n",
        "for event in graph.stream({\"topic\":topic,\"max_analysts\":max_analysts}, thread, stream_mode=\"values\"):\n",
        "    # Review\n",
        "    analysts = event.get('analysts', '')\n",
        "    if analysts:\n",
        "        for analyst in analysts:\n",
        "            print(f\"Name: {analyst.name}\")\n",
        "            print(f\"Affiliation: {analyst.affiliation}\")\n",
        "            print(f\"Role: {analyst.role}\")\n",
        "            print(f\"Description: {analyst.description}\")\n",
        "            print(\"-\" * 50)"
      ],
      "metadata": {
        "colab": {
          "base_uri": "https://localhost:8080/"
        },
        "id": "AWmJuGnn42Q9",
        "outputId": "f5f05d4b-02ef-4cef-da5f-64912cfb7dc8"
      },
      "execution_count": 6,
      "outputs": [
        {
          "output_type": "stream",
          "name": "stdout",
          "text": [
            "Name: Dr. Emily Harper\n",
            "Affiliation: Institute of Advanced Software\n",
            "Role: Software Framework Specialist\n",
            "Description: Dr. Emily Harper is focused on understanding how new frameworks, particularly LangGraph, can enhance software development practices. Her main interest lies in how LangGraph simplifies complex programming tasks, increasing efficiency, reducing costs, and minimizing errors. She is motivated by the potential of LangGraph to streamline the development process and help teams deliver better software products faster.\n",
            "--------------------------------------------------\n",
            "Name: Rahul Mehta\n",
            "Affiliation: Tech Trends Think Tank\n",
            "Role: Technology Adoption Analyst\n",
            "Description: Rahul Mehta analyzes market trends and the adoption of new technologies like LangGraph. He is particularly concerned with how quickly businesses are adopting LangGraph for their projects and what factors influence their decision-making process. His focus is on identifying barriers to adoption and strategies that can enhance the uptake of LangGraph in various industries, driven by a commitment to helping organizations stay competitive.\n",
            "--------------------------------------------------\n",
            "Name: Samantha Lin\n",
            "Affiliation: Future Systems Research Lab\n",
            "Role: Innovation Strategist\n",
            "Description: Samantha Lin explores how innovative agent frameworks like LangGraph can redefine the approach to artificial intelligence and machine learning. She focuses on LangGraph's role in advancing AI capabilities, fostering interoperability between different systems, and its impact on the future of smart applications. Samantha is motivated by the transformative potential of such frameworks to enable a new era of intelligent, adaptable, and autonomous systems.\n",
            "--------------------------------------------------\n"
          ]
        }
      ]
    },
    {
      "cell_type": "code",
      "source": [
        "graph.update_state(thread, {\"human_analyst_feedback\":\n",
        "                            \"Add in someone from a startup to add an entrepreneur perspective\"}, as_node=\"human_feedback\")"
      ],
      "metadata": {
        "colab": {
          "base_uri": "https://localhost:8080/"
        },
        "id": "Vjkd6SMu45j_",
        "outputId": "f5d03924-31d3-484f-903e-c1f959db780c"
      },
      "execution_count": 7,
      "outputs": [
        {
          "output_type": "execute_result",
          "data": {
            "text/plain": [
              "{'configurable': {'thread_id': '1',\n",
              "  'checkpoint_ns': '',\n",
              "  'checkpoint_id': '1eff1c3e-f17c-6bfe-8002-bc19ac57723f'}}"
            ]
          },
          "metadata": {},
          "execution_count": 7
        }
      ]
    },
    {
      "cell_type": "code",
      "source": [
        "for event in graph.stream(None, thread, stream_mode=\"values\"):\n",
        "    # Review\n",
        "    analysts = event.get('analysts', '')\n",
        "    if analysts:\n",
        "        for analyst in analysts:\n",
        "            print(f\"Name: {analyst.name}\")\n",
        "            print(f\"Affiliation: {analyst.affiliation}\")\n",
        "            print(f\"Role: {analyst.role}\")\n",
        "            print(f\"Description: {analyst.description}\")\n",
        "            print(\"-\" * 50)"
      ],
      "metadata": {
        "colab": {
          "base_uri": "https://localhost:8080/"
        },
        "id": "7Nf5fzDo5HBF",
        "outputId": "3290c8af-f508-451e-a0e0-0a31863a51a9"
      },
      "execution_count": 8,
      "outputs": [
        {
          "output_type": "stream",
          "name": "stdout",
          "text": [
            "Name: Dr. Emily Harper\n",
            "Affiliation: Institute of Advanced Software\n",
            "Role: Software Framework Specialist\n",
            "Description: Dr. Emily Harper is focused on understanding how new frameworks, particularly LangGraph, can enhance software development practices. Her main interest lies in how LangGraph simplifies complex programming tasks, increasing efficiency, reducing costs, and minimizing errors. She is motivated by the potential of LangGraph to streamline the development process and help teams deliver better software products faster.\n",
            "--------------------------------------------------\n",
            "Name: Rahul Mehta\n",
            "Affiliation: Tech Trends Think Tank\n",
            "Role: Technology Adoption Analyst\n",
            "Description: Rahul Mehta analyzes market trends and the adoption of new technologies like LangGraph. He is particularly concerned with how quickly businesses are adopting LangGraph for their projects and what factors influence their decision-making process. His focus is on identifying barriers to adoption and strategies that can enhance the uptake of LangGraph in various industries, driven by a commitment to helping organizations stay competitive.\n",
            "--------------------------------------------------\n",
            "Name: Samantha Lin\n",
            "Affiliation: Future Systems Research Lab\n",
            "Role: Innovation Strategist\n",
            "Description: Samantha Lin explores how innovative agent frameworks like LangGraph can redefine the approach to artificial intelligence and machine learning. She focuses on LangGraph's role in advancing AI capabilities, fostering interoperability between different systems, and its impact on the future of smart applications. Samantha is motivated by the transformative potential of such frameworks to enable a new era of intelligent, adaptable, and autonomous systems.\n",
            "--------------------------------------------------\n",
            "Name: Elena Morris\n",
            "Affiliation: Tech Innovators Startup\n",
            "Role: Startup Entrepreneur\n",
            "Description: Elena is the co-founder and CTO of Tech Innovators Startup, a small company focused on leveraging cutting-edge technologies to create scalable solutions. Her interest in LangGraph stems from the framework's potential to streamline the development of intelligent agents, reducing time-to-market and resource expenditure. As an entrepreneur, she is constantly looking for technologies that provide a competitive edge and LangGraph's ability to integrate efficiently with existing systems is particularly appealing to her startup's agile philosophy.\n",
            "--------------------------------------------------\n",
            "Name: Dr. Raj Patel\n",
            "Affiliation: AI and Machine Learning Research Institute\n",
            "Role: AI Researcher\n",
            "Description: Dr. Patel is a leading researcher in the field of artificial intelligence and machine learning, with a specific focus on agent-based models. His current research involves exploring how agent frameworks like LangGraph can enhance interaction and communication in AI systems. The benefits he sees in LangGraph revolve around its architecture, which promotes modularity and scalability, crucial for building complex AI systems. Dr. Patel is also interested in how LangGraph supports multi-agent simulations, which are vital in his research projects.\n",
            "--------------------------------------------------\n",
            "Name: Sofia Garcia\n",
            "Affiliation: Global Tech Solutions\n",
            "Role: Enterprise Software Architect\n",
            "Description: Sofia is an experienced software architect working for Global Tech Solutions. Her role involves designing and implementing large-scale enterprise systems that require robustness and flexibility. LangGraph attracts Sofia because of its ability to seamlessly integrate with enterprise infrastructure while offering scalable solutions for agent-based applications. Her focus is on evaluating how adopting LangGraph can lead to enhanced system resilience and how it can facilitate the integration of AI components into existing corporate workflows efficiently.\n",
            "--------------------------------------------------\n"
          ]
        }
      ]
    },
    {
      "cell_type": "code",
      "source": [
        "# If we are satisfied, then we simply supply no feedback\n",
        "further_feedack = None\n",
        "graph.update_state(thread, {\"human_analyst_feedback\":\n",
        "                            further_feedack}, as_node=\"human_feedback\")"
      ],
      "metadata": {
        "colab": {
          "base_uri": "https://localhost:8080/"
        },
        "id": "CSloMEWE5Kof",
        "outputId": "97fc5076-f0e0-4ba9-a09f-4fdd97bd5123"
      },
      "execution_count": 9,
      "outputs": [
        {
          "output_type": "execute_result",
          "data": {
            "text/plain": [
              "{'configurable': {'thread_id': '1',\n",
              "  'checkpoint_ns': '',\n",
              "  'checkpoint_id': '1eff1c3f-4104-6555-8004-cbab97d44714'}}"
            ]
          },
          "metadata": {},
          "execution_count": 9
        }
      ]
    },
    {
      "cell_type": "code",
      "source": [
        "graph.get_state(thread).next"
      ],
      "metadata": {
        "colab": {
          "base_uri": "https://localhost:8080/"
        },
        "id": "7XleyJLY5h8V",
        "outputId": "a67fdf1c-d82e-44f8-a1f5-d3fccc22a216"
      },
      "execution_count": 10,
      "outputs": [
        {
          "output_type": "execute_result",
          "data": {
            "text/plain": [
              "()"
            ]
          },
          "metadata": {},
          "execution_count": 10
        }
      ]
    },
    {
      "cell_type": "code",
      "source": [
        "for event in graph.stream(None, thread, stream_mode=\"updates\"):\n",
        "    print(\"--Node--\")\n",
        "    node_name = next(iter(event.keys()))\n",
        "    print(node_name)"
      ],
      "metadata": {
        "id": "Nb3oryza5XWP"
      },
      "execution_count": 11,
      "outputs": []
    },
    {
      "cell_type": "code",
      "source": [
        "final_state = graph.get_state(thread)\n",
        "analysts = final_state.values.get('analysts')"
      ],
      "metadata": {
        "id": "eOSlOWjT5Z4L"
      },
      "execution_count": 12,
      "outputs": []
    },
    {
      "cell_type": "code",
      "source": [
        "final_state.next\n"
      ],
      "metadata": {
        "colab": {
          "base_uri": "https://localhost:8080/"
        },
        "id": "2M1H-32u5cqC",
        "outputId": "fd1e0afb-9e4a-4d02-d5d7-d4936f9e7a26"
      },
      "execution_count": 13,
      "outputs": [
        {
          "output_type": "execute_result",
          "data": {
            "text/plain": [
              "()"
            ]
          },
          "metadata": {},
          "execution_count": 13
        }
      ]
    },
    {
      "cell_type": "code",
      "source": [
        "for analyst in analysts:\n",
        "    print(f\"Name: {analyst.name}\")\n",
        "    print(f\"Affiliation: {analyst.affiliation}\")\n",
        "    print(f\"Role: {analyst.role}\")\n",
        "    print(f\"Description: {analyst.description}\")\n",
        "    print(\"-\" * 50)\n"
      ],
      "metadata": {
        "colab": {
          "base_uri": "https://localhost:8080/"
        },
        "id": "ZFwiWRb_5h_S",
        "outputId": "831b20af-ac3b-4f73-fc93-1417880a3834"
      },
      "execution_count": 14,
      "outputs": [
        {
          "output_type": "stream",
          "name": "stdout",
          "text": [
            "Name: Elena Morris\n",
            "Affiliation: Tech Innovators Startup\n",
            "Role: Startup Entrepreneur\n",
            "Description: Elena is the co-founder and CTO of Tech Innovators Startup, a small company focused on leveraging cutting-edge technologies to create scalable solutions. Her interest in LangGraph stems from the framework's potential to streamline the development of intelligent agents, reducing time-to-market and resource expenditure. As an entrepreneur, she is constantly looking for technologies that provide a competitive edge and LangGraph's ability to integrate efficiently with existing systems is particularly appealing to her startup's agile philosophy.\n",
            "--------------------------------------------------\n",
            "Name: Dr. Raj Patel\n",
            "Affiliation: AI and Machine Learning Research Institute\n",
            "Role: AI Researcher\n",
            "Description: Dr. Patel is a leading researcher in the field of artificial intelligence and machine learning, with a specific focus on agent-based models. His current research involves exploring how agent frameworks like LangGraph can enhance interaction and communication in AI systems. The benefits he sees in LangGraph revolve around its architecture, which promotes modularity and scalability, crucial for building complex AI systems. Dr. Patel is also interested in how LangGraph supports multi-agent simulations, which are vital in his research projects.\n",
            "--------------------------------------------------\n",
            "Name: Sofia Garcia\n",
            "Affiliation: Global Tech Solutions\n",
            "Role: Enterprise Software Architect\n",
            "Description: Sofia is an experienced software architect working for Global Tech Solutions. Her role involves designing and implementing large-scale enterprise systems that require robustness and flexibility. LangGraph attracts Sofia because of its ability to seamlessly integrate with enterprise infrastructure while offering scalable solutions for agent-based applications. Her focus is on evaluating how adopting LangGraph can lead to enhanced system resilience and how it can facilitate the integration of AI components into existing corporate workflows efficiently.\n",
            "--------------------------------------------------\n"
          ]
        }
      ]
    },
    {
      "cell_type": "code",
      "source": [
        "import operator\n",
        "from typing import  Annotated\n",
        "from langgraph.graph import MessagesState\n",
        "\n",
        "class InterviewState(MessagesState):\n",
        "    max_num_turns: int # Number turns of conversation\n",
        "    context: Annotated[list, operator.add] # Source docs\n",
        "    analyst: Analyst # Analyst asking questions\n",
        "    interview: str # Interview transcript\n",
        "    sections: list # Final key we duplicate in outer state for Send() API\n",
        "\n",
        "class SearchQuery(BaseModel):\n",
        "    search_query: str = Field(None, description=\"Search query for retrieval.\")"
      ],
      "metadata": {
        "id": "Co9-QM885lFm"
      },
      "execution_count": 15,
      "outputs": []
    },
    {
      "cell_type": "code",
      "source": [
        "question_instructions = \"\"\"You are an analyst tasked with interviewing an expert to learn about a specific topic.\n",
        "\n",
        "Your goal is boil down to interesting and specific insights related to your topic.\n",
        "\n",
        "1. Interesting: Insights that people will find surprising or non-obvious.\n",
        "\n",
        "2. Specific: Insights that avoid generalities and include specific examples from the expert.\n",
        "\n",
        "Here is your topic of focus and set of goals: {goals}\n",
        "\n",
        "Begin by introducing yourself using a name that fits your persona, and then ask your question.\n",
        "\n",
        "Continue to ask questions to drill down and refine your understanding of the topic.\n",
        "\n",
        "When you are satisfied with your understanding, complete the interview with: \"Thank you so much for your help!\"\n",
        "\n",
        "Remember to stay in character throughout your response, reflecting the persona and goals provided to you.\"\"\"\n",
        "\n",
        "def generate_question(state: InterviewState):\n",
        "    \"\"\" Node to generate a question \"\"\"\n",
        "\n",
        "    # Get state\n",
        "    analyst = state[\"analyst\"]\n",
        "    messages = state[\"messages\"]\n",
        "\n",
        "    # Generate question\n",
        "    system_message = question_instructions.format(goals=analyst.persona)\n",
        "    question = llm.invoke([SystemMessage(content=system_message)]+messages)\n",
        "\n",
        "    # Write messages to state\n",
        "    return {\"messages\": [question]}"
      ],
      "metadata": {
        "id": "p7TnekxN7cui"
      },
      "execution_count": 16,
      "outputs": []
    },
    {
      "cell_type": "code",
      "source": [
        "from langchain_community.tools.tavily_search import TavilySearchResults\n",
        "tavily_search = TavilySearchResults(max_results=3)"
      ],
      "metadata": {
        "id": "gEK-2e7P7fx6"
      },
      "execution_count": 17,
      "outputs": []
    },
    {
      "cell_type": "code",
      "source": [
        "from langchain_community.document_loaders import WikipediaLoader\n",
        "from langchain_community.document_loaders import ArxivLoader"
      ],
      "metadata": {
        "id": "sBSw-Onk7uZ6"
      },
      "execution_count": 18,
      "outputs": []
    },
    {
      "cell_type": "code",
      "source": [
        "from langchain_core.messages import get_buffer_string\n",
        "\n",
        "# Search query writing\n",
        "search_instructions = SystemMessage(content=f\"\"\"You will be given a conversation between an analyst and an expert.\n",
        "\n",
        "Your goal is to generate a well-structured query for use in retrieval and / or web-search related to the conversation.\n",
        "\n",
        "First, analyze the full conversation.\n",
        "\n",
        "Pay particular attention to the final question posed by the analyst.\n",
        "\n",
        "Convert this final question into a well-structured web search query\"\"\")\n",
        "\n",
        "def search_web(state: InterviewState):\n",
        "\n",
        "    \"\"\" Retrieve docs from web search \"\"\"\n",
        "\n",
        "    # Search query\n",
        "    structured_llm = llm.with_structured_output(SearchQuery)\n",
        "    search_query = structured_llm.invoke([search_instructions]+state['messages'])\n",
        "\n",
        "    # Search\n",
        "    search_docs = tavily_search.invoke(search_query.search_query)\n",
        "\n",
        "     # Format\n",
        "    formatted_search_docs = \"\\n\\n---\\n\\n\".join(\n",
        "        [\n",
        "            f'<Document href=\"{doc[\"url\"]}\"/>\\n{doc[\"content\"]}\\n</Document>'\n",
        "            for doc in search_docs\n",
        "        ]\n",
        "    )\n",
        "\n",
        "    return {\"context\": [formatted_search_docs]}\n",
        "\n",
        "\n",
        "\n",
        "def search_arxiv(state: InterviewState):\n",
        "    \"\"\" Retrieve docs from arXiv \"\"\"\n",
        "    # Search query\n",
        "    structured_llm = llm.with_structured_output(SearchQuery)\n",
        "    search_query = structured_llm.invoke([search_instructions] + state['messages'])\n",
        "\n",
        "    # Search\n",
        "    search_docs = ArxivLoader(\n",
        "        query=search_query.search_query,doc_content_chars_max = 1000,\n",
        "        load_max_docs=1\n",
        "    ).load()\n",
        "\n",
        "    # Format - Handle metadata variations\n",
        "    formatted_search_docs = []\n",
        "    for doc in search_docs:\n",
        "        # Extract arXiv ID from content if missing in metadata\n",
        "        first_line = doc.page_content.split('\\n')[0]\n",
        "        arxiv_id = doc.metadata.get(\"entry_id\",\n",
        "                        first_line.split()[0].split(':')[-1].split('v')[0])  # Get base ID\n",
        "\n",
        "        # Safely get title and authors with fallbacks\n",
        "        title = doc.metadata.get(\"Title\", \"Untitled Paper\")\n",
        "        authors = \", \".join(doc.metadata.get(\"Authors\", [\"Unknown Author\"]))\n",
        "\n",
        "        formatted_doc = (\n",
        "            f'<Document source=\"https://arxiv.org/abs/{arxiv_id}\" '\n",
        "            f'title=\"{title}\" authors=\"{authors}\"/>\\n'\n",
        "            f'{doc.page_content}\\n</Document>'\n",
        "        )\n",
        "        formatted_search_docs.append(formatted_doc)\n",
        "\n",
        "    return {\"context\": [\"\\n\\n---\\n\\n\".join(formatted_search_docs)]}\n",
        "def search_wikipedia(state: InterviewState):\n",
        "\n",
        "    \"\"\" Retrieve docs from wikipedia \"\"\"\n",
        "\n",
        "    # Search query\n",
        "    structured_llm = llm.with_structured_output(SearchQuery)\n",
        "    search_query = structured_llm.invoke([search_instructions]+state['messages'])\n",
        "\n",
        "    # Search\n",
        "    search_docs = WikipediaLoader(query=search_query.search_query,\n",
        "                                  load_max_docs=2).load()\n",
        "\n",
        "     # Format\n",
        "    formatted_search_docs = \"\\n\\n---\\n\\n\".join(\n",
        "        [\n",
        "            f'<Document source=\"{doc.metadata[\"source\"]}\" page=\"{doc.metadata.get(\"page\", \"\")}\"/>\\n{doc.page_content}\\n</Document>'\n",
        "            for doc in search_docs\n",
        "        ]\n",
        "    )\n",
        "\n",
        "    return {\"context\": [formatted_search_docs]}\n",
        "\n",
        "\n",
        "\n",
        "\n",
        "answer_instructions = \"\"\"You are an expert being interviewed by an analyst.\n",
        "\n",
        "Here is analyst area of focus: {goals}.\n",
        "\n",
        "You goal is to answer a question posed by the interviewer.\n",
        "\n",
        "To answer question, use this context:\n",
        "\n",
        "{context}\n",
        "\n",
        "When answering questions, follow these guidelines:\n",
        "\n",
        "1. Use only the information provided in the context.\n",
        "\n",
        "2. Do not introduce external information or make assumptions beyond what is explicitly stated in the context.\n",
        "\n",
        "3. The context contain sources at the topic of each individual document.\n",
        "\n",
        "4. Include these sources your answer next to any relevant statements. For example, for source # 1 use [1].\n",
        "\n",
        "5. List your sources in order at the bottom of your answer. [1] Source 1, [2] Source 2, etc\n",
        "\n",
        "6. If the source is: <Document source=\"assistant/docs/llama3_1.pdf\" page=\"7\"/>' then just list:\n",
        "\n",
        "[1] assistant/docs/llama3_1.pdf, page 7\n",
        "\n",
        "And skip the addition of the brackets as well as the Document source preamble in your citation.\"\"\"\n",
        "\n",
        "def generate_answer(state: InterviewState):\n",
        "\n",
        "    \"\"\" Node to answer a question \"\"\"\n",
        "\n",
        "    # Get state\n",
        "    analyst = state[\"analyst\"]\n",
        "    messages = state[\"messages\"]\n",
        "    context = state[\"context\"]\n",
        "\n",
        "    # Answer question\n",
        "    system_message = answer_instructions.format(goals=analyst.persona, context=context)\n",
        "    answer = llm.invoke([SystemMessage(content=system_message)]+messages)\n",
        "\n",
        "    # Name the message as coming from the expert\n",
        "    answer.name = \"expert\"\n",
        "\n",
        "    # Append it to state\n",
        "    return {\"messages\": [answer]}\n",
        "\n",
        "def save_interview(state: InterviewState):\n",
        "\n",
        "    \"\"\" Save interviews \"\"\"\n",
        "\n",
        "    # Get messages\n",
        "    messages = state[\"messages\"]\n",
        "\n",
        "    # Convert interview to a string\n",
        "    interview = get_buffer_string(messages)\n",
        "\n",
        "    # Save to interviews key\n",
        "    return {\"interview\": interview}\n",
        "\n",
        "def route_messages(state: InterviewState,\n",
        "                   name: str = \"expert\"):\n",
        "\n",
        "    \"\"\" Route between question and answer \"\"\"\n",
        "\n",
        "    # Get messages\n",
        "    messages = state[\"messages\"]\n",
        "    max_num_turns = state.get('max_num_turns',2)\n",
        "\n",
        "    # Check the number of expert answers\n",
        "    num_responses = len(\n",
        "        [m for m in messages if isinstance(m, AIMessage) and m.name == name]\n",
        "    )\n",
        "\n",
        "    # End if expert has answered more than the max turns\n",
        "    if num_responses >= max_num_turns:\n",
        "        return 'save_interview'\n",
        "\n",
        "    # This router is run after each question - answer pair\n",
        "    # Get the last question asked to check if it signals the end of discussion\n",
        "    last_question = messages[-2]\n",
        "\n",
        "    if \"Thank you so much for your help\" in last_question.content:\n",
        "        return 'save_interview'\n",
        "    return \"ask_question\"\n",
        "\n",
        "section_writer_instructions = \"\"\"You are an expert technical writer.\n",
        "\n",
        "Your task is to create a short, easily digestible section of a report based on a set of source documents.\n",
        "\n",
        "1. Analyze the content of the source documents:\n",
        "- The name of each source document is at the start of the document, with the <Document tag.\n",
        "\n",
        "2. Create a report structure using markdown formatting:\n",
        "- Use ## for the section title\n",
        "- Use ### for sub-section headers\n",
        "\n",
        "3. Write the report following this structure:\n",
        "a. Title (## header)\n",
        "b. Summary (### header)\n",
        "c. Sources (### header)\n",
        "\n",
        "4. Make your title engaging based upon the focus area of the analyst:\n",
        "{focus}\n",
        "\n",
        "5. For the summary section:\n",
        "- Set up summary with general background / context related to the focus area of the analyst\n",
        "- Emphasize what is novel, interesting, or surprising about insights gathered from the interview\n",
        "- Create a numbered list of source documents, as you use them\n",
        "- Do not mention the names of interviewers or experts\n",
        "- Aim for approximately 400 words maximum\n",
        "- Use numbered sources in your report (e.g., [1], [2]) based on information from source documents\n",
        "\n",
        "6. In the Sources section:\n",
        "- Include all sources used in your report\n",
        "- Provide full links to relevant websites or specific document paths\n",
        "- Separate each source by a newline. Use two spaces at the end of each line to create a newline in Markdown.\n",
        "- It will look like:\n",
        "\n",
        "### Sources\n",
        "[1] Link or Document name\n",
        "[2] Link or Document name\n",
        "\n",
        "7. Be sure to combine sources. For example this is not correct:\n",
        "\n",
        "[3] https://ai.meta.com/blog/meta-llama-3-1/\n",
        "[4] https://ai.meta.com/blog/meta-llama-3-1/\n",
        "\n",
        "There should be no redundant sources. It should simply be:\n",
        "\n",
        "[3] https://ai.meta.com/blog/meta-llama-3-1/\n",
        "\n",
        "8. Final review:\n",
        "- Ensure the report follows the required structure\n",
        "- Include no preamble before the title of the report\n",
        "- Check that all guidelines have been followed\"\"\"\n",
        "\n",
        "def write_section(state: InterviewState):\n",
        "\n",
        "    \"\"\" Node to answer a question \"\"\"\n",
        "\n",
        "    # Get state\n",
        "    interview = state[\"interview\"]\n",
        "    context = state[\"context\"]\n",
        "    analyst = state[\"analyst\"]\n",
        "\n",
        "    # Write section using either the gathered source docs from interview (context) or the interview itself (interview)\n",
        "    system_message = section_writer_instructions.format(focus=analyst.description)\n",
        "    section = llm.invoke([SystemMessage(content=system_message)]+[HumanMessage(content=f\"Use this source to write your section: {context}\")])\n",
        "\n",
        "    # Append it to state\n",
        "    return {\"sections\": [section.content]}\n",
        "\n",
        "# Add nodes and edges\n",
        "interview_builder = StateGraph(InterviewState)\n",
        "interview_builder.add_node(\"ask_question\", generate_question)\n",
        "interview_builder.add_node(\"search_web\", search_web)\n",
        "interview_builder.add_node(\"search_wikipedia\", search_wikipedia)\n",
        "interview_builder.add_node(\"search_arxiv\", search_arxiv)\n",
        "interview_builder.add_node(\"answer_question\", generate_answer)\n",
        "interview_builder.add_node(\"save_interview\", save_interview)\n",
        "interview_builder.add_node(\"write_section\", write_section)\n",
        "\n",
        "# Flow\n",
        "interview_builder.add_edge(START, \"ask_question\")\n",
        "interview_builder.add_edge(\"ask_question\", \"search_web\")\n",
        "interview_builder.add_edge(\"ask_question\", \"search_arxiv\")\n",
        "interview_builder.add_edge(\"ask_question\", \"search_wikipedia\")\n",
        "interview_builder.add_edge(\"search_web\", \"answer_question\")\n",
        "interview_builder.add_edge(\"search_arxiv\", \"answer_question\")\n",
        "interview_builder.add_edge(\"search_wikipedia\", \"answer_question\")\n",
        "interview_builder.add_conditional_edges(\"answer_question\", route_messages,['ask_question','save_interview'])\n",
        "interview_builder.add_edge(\"save_interview\", \"write_section\")\n",
        "interview_builder.add_edge(\"write_section\", END)\n",
        "\n",
        "# Interview\n",
        "memory = MemorySaver()\n",
        "interview_graph = interview_builder.compile(checkpointer=memory).with_config(run_name=\"Conduct Interviews\")\n",
        "\n",
        "# View\n",
        "display(Image(interview_graph.get_graph().draw_mermaid_png()))"
      ],
      "metadata": {
        "colab": {
          "base_uri": "https://localhost:8080/",
          "height": 647
        },
        "id": "iYRI8Ltl7w-u",
        "outputId": "95c3ec58-1b94-418e-bb77-8e9dcedacc0e"
      },
      "execution_count": 38,
      "outputs": [
        {
          "output_type": "display_data",
          "data": {
            "image/png": "[encoded data removed]",
            "text/plain": [
              "<IPython.core.display.Image object>"
            ]
          },
          "metadata": {}
        }
      ]
    },
    {
      "cell_type": "code",
      "source": [],
      "metadata": {
        "id": "OnKUXEM_CQV1"
      },
      "execution_count": 38,
      "outputs": []
    },
    {
      "cell_type": "code",
      "source": [],
      "metadata": {
        "id": "a_aIlwD4CQh1"
      },
      "execution_count": 38,
      "outputs": []
    },
    {
      "cell_type": "code",
      "source": [
        "analysts[1]\n"
      ],
      "metadata": {
        "colab": {
          "base_uri": "https://localhost:8080/"
        },
        "id": "PXB74IIo774t",
        "outputId": "09a61b19-fafd-4bb7-95aa-370276cf467b"
      },
      "execution_count": 39,
      "outputs": [
        {
          "output_type": "execute_result",
          "data": {
            "text/plain": [
              "Analyst(affiliation='FutureTech Innovations', name='Cynthia Cho', role='CEO', description='Cynthia is the CEO of a gen AI native startup. She emphasizes the strategic benefits of adopting LangGraph in driving innovation and scaling her business efficiently. Cynthia is also concerned with how LangGraph can give her company a competitive edge in the rapidly evolving AI landscape.')"
            ]
          },
          "metadata": {},
          "execution_count": 39
        }
      ]
    },
    {
      "cell_type": "code",
      "source": [],
      "metadata": {
        "id": "ZVxeV-qzx-rY"
      },
      "execution_count": 40,
      "outputs": []
    },
    {
      "cell_type": "code",
      "source": [],
      "metadata": {
        "id": "RurKLwZNx4HM"
      },
      "execution_count": 40,
      "outputs": []
    },
    {
      "cell_type": "code",
      "source": [
        "\n",
        "from IPython.display import Markdown\n",
        "messages = [HumanMessage(f\"So you said you were writing an article on {topic}?\")]\n",
        "thread = {\"configurable\": {\"thread_id\": \"1\"}}\n",
        "interview = interview_graph.invoke({\"analyst\": analysts[0], \"messages\": messages, \"max_num_turns\": 2}, thread)\n",
        "Markdown(interview['sections'][0])"
      ],
      "metadata": {
        "colab": {
          "base_uri": "https://localhost:8080/",
          "height": 616
        },
        "id": "fNH3MFL28CPw",
        "outputId": "4790bac9-a3e1-4fec-c68f-74e356b276bb"
      },
      "execution_count": 40,
      "outputs": [
        {
          "output_type": "execute_result",
          "data": {
            "text/plain": [
              "<IPython.core.display.Markdown object>"
            ],
            "text/markdown": "## Streamlining System Integration with LangGraph: Enhancing Process Efficiency and Robustness\n\n### Summary\n\nThe integration of LangGraph into existing systems presents significant opportunities for enhancing process efficiency and system robustness. LangGraph, a graph-based workflow technology, offers a unique approach to problem-solving in multi-agent environments and large language models (LLMs) implementations. Noteworthy advantages are being realized through its ability to streamline processes, improve information transmission, and facilitate dynamic decision-making within complex systems. This report highlights the technical advantages and practical implementations of LangGraph that cater to John’s professional focus and interest.\n\nLangGraph's architecture improves the efficiency of information transmission across interconnected components, crucial for systems requiring quick and reliable data exchange [1]. In conjunction with CrewAI, LangGraph enables enhanced team collaboration by leveraging intelligent task allocation, optimizing the performance of systems handling complex tasks that a single agent cannot effectively tackle alone [1].\n\nOne of the novel aspects of LangGraph is its modular framework that contributes to the automation and effectiveness of machine translation (MT). This framework streamlines translation tasks through its specialized agents—TranslateEnAgent, TranslateFrenchAgent, and TranslateJpAgent—which provide accurate translations by using the semantic capabilities of LLMs, such as GPT-4o [2]. This modularity not only simplifies MT processes but also offers a scalable solution adaptable to various languages and contexts.\n\nLangGraph also excels in real-time data analysis systems, particularly in big data environments. By integrating with Spark Streaming, it provides dynamic decision-making and tool invocation capabilities that overcome the limitations of static workflows. This integration allows for flexible control flows and efficient process management while reducing the need for constant human intervention, thereby improving overall system responsiveness and adaptability [3].\n\nAdditionally, within the domain of visualized and enhanced machine learning workflows, LangGraph's incorporation with Spark facilitates the automation of critical processes such as data preprocessing, feature engineering, and model evaluation. By utilizing Spark’s distributed computing capabilities, LangGraph enables scalable workflow orchestration and interactive data analysis, leading to improved workflow efficiency [4].\n\nIn summary, LangGraph’s graph-based technology, when integrated into current systems, not only streamlines operational efficiency and enhances robustness but also provides a versatile framework powered by advanced AI capabilities. This makes it an ideal solution for modern system challenges, aligning well with John’s focus on incorporating technical advancements to streamline processes.\n\n### Sources\n[1] https://arxiv.org/abs/Exploration  \n[2] https://arxiv.org/abs/Agent  \n[3] https://arxiv.org/abs/Research  \n[4] https://arxiv.org/abs/Intelligent  "
          },
          "metadata": {},
          "execution_count": 40
        }
      ]
    },
    {
      "cell_type": "code",
      "source": [
        "\n",
        "import operator\n",
        "from typing import List, Annotated\n",
        "from typing_extensions import TypedDict\n",
        "\n",
        "class ResearchGraphState(TypedDict):\n",
        "    topic: str # Research topic\n",
        "    max_analysts: int # Number of analysts\n",
        "    human_analyst_feedback: str # Human feedback\n",
        "    analysts: List[Analyst] # Analyst asking questions\n",
        "    sections: Annotated[list, operator.add] # Send() API key\n",
        "    introduction: str # Introduction for the final report\n",
        "    content: str # Content for the final report\n",
        "    conclusion: str # Conclusion for the final report\n",
        "    final_report: str # Final report"
      ],
      "metadata": {
        "id": "SKNCNhsj8KDc"
      },
      "execution_count": 41,
      "outputs": []
    },
    {
      "cell_type": "code",
      "source": [
        "from langgraph.constants import Send\n",
        "\n",
        "def initiate_all_interviews(state: ResearchGraphState):\n",
        "    \"\"\" This is the \"map\" step where we run each interview sub-graph using Send API \"\"\"\n",
        "\n",
        "    # Check if human feedback\n",
        "    human_analyst_feedback=state.get('human_analyst_feedback')\n",
        "    if human_analyst_feedback:\n",
        "        # Return to create_analysts\n",
        "        return \"create_analysts\"\n",
        "\n",
        "    # Otherwise kick off interviews in parallel via Send() API\n",
        "    else:\n",
        "        topic = state[\"topic\"]\n",
        "        return [Send(\"conduct_interview\", {\"analyst\": analyst,\n",
        "                                           \"messages\": [HumanMessage(\n",
        "                                               content=f\"So you said you were writing an article on {topic}?\"\n",
        "                                           )\n",
        "                                                       ]}) for analyst in state[\"analysts\"]]\n",
        "\n",
        "report_writer_instructions = \"\"\"You are a technical writer creating a report on this overall topic:\n",
        "\n",
        "{topic}\n",
        "\n",
        "You have a team of analysts. Each analyst has done two things:\n",
        "\n",
        "1. They conducted an interview with an expert on a specific sub-topic.\n",
        "2. They write up their finding into a memo.\n",
        "\n",
        "Your task:\n",
        "\n",
        "1. You will be given a collection of memos from your analysts.\n",
        "2. Think carefully about the insights from each memo.\n",
        "3. Consolidate these into a crisp overall summary that ties together the central ideas from all of the memos.\n",
        "4. Summarize the central points in each memo into a cohesive single narrative.\n",
        "\n",
        "To format your report:\n",
        "\n",
        "1. Use markdown formatting.\n",
        "2. Include no pre-amble for the report.\n",
        "3. Use no sub-heading.\n",
        "4. Start your report with a single title header: ## Insights\n",
        "5. Do not mention any analyst names in your report.\n",
        "6. Preserve any citations in the memos, which will be annotated in brackets, for example [1] or [2].\n",
        "7. Create a final, consolidated list of sources and add to a Sources section with the `## Sources` header.\n",
        "8. List your sources in order and do not repeat.\n",
        "\n",
        "[1] Source 1\n",
        "[2] Source 2\n",
        "\n",
        "Here are the memos from your analysts to build your report from:\n",
        "\n",
        "{context}\"\"\"\n",
        "\n",
        "def write_report(state: ResearchGraphState):\n",
        "    # Full set of sections\n",
        "    sections = state[\"sections\"]\n",
        "    topic = state[\"topic\"]\n",
        "\n",
        "    # Concat all sections together\n",
        "    formatted_str_sections = \"\\n\\n\".join([f\"{section}\" for section in sections])\n",
        "\n",
        "    # Summarize the sections into a final report\n",
        "    system_message = report_writer_instructions.format(topic=topic, context=formatted_str_sections)\n",
        "    report = llm.invoke([SystemMessage(content=system_message)]+[HumanMessage(content=f\"Write a report based upon these memos.\")])\n",
        "    return {\"content\": report.content}\n",
        "\n",
        "intro_conclusion_instructions = \"\"\"You are a technical writer finishing a report on {topic}\n",
        "\n",
        "You will be given all of the sections of the report.\n",
        "\n",
        "You job is to write a crisp and compelling introduction or conclusion section.\n",
        "\n",
        "The user will instruct you whether to write the introduction or conclusion.\n",
        "\n",
        "Include no pre-amble for either section.\n",
        "\n",
        "Target around 100 words, crisply previewing (for introduction) or recapping (for conclusion) all of the sections of the report.\n",
        "\n",
        "Use markdown formatting.\n",
        "\n",
        "For your introduction, create a compelling title and use the # header for the title.\n",
        "\n",
        "For your introduction, use ## Introduction as the section header.\n",
        "\n",
        "For your conclusion, use ## Conclusion as the section header.\n",
        "\n",
        "Here are the sections to reflect on for writing: {formatted_str_sections}\"\"\"\n",
        "\n",
        "def write_introduction(state: ResearchGraphState):\n",
        "    # Full set of sections\n",
        "    sections = state[\"sections\"]\n",
        "    topic = state[\"topic\"]\n",
        "\n",
        "    # Concat all sections together\n",
        "    formatted_str_sections = \"\\n\\n\".join([f\"{section}\" for section in sections])\n",
        "\n",
        "    # Summarize the sections into a final report\n",
        "\n",
        "    instructions = intro_conclusion_instructions.format(topic=topic, formatted_str_sections=formatted_str_sections)\n",
        "    intro = llm.invoke([instructions]+[HumanMessage(content=f\"Write the report introduction\")])\n",
        "    return {\"introduction\": intro.content}\n",
        "\n",
        "def write_conclusion(state: ResearchGraphState):\n",
        "    # Full set of sections\n",
        "    sections = state[\"sections\"]\n",
        "    topic = state[\"topic\"]\n",
        "\n",
        "    # Concat all sections together\n",
        "    formatted_str_sections = \"\\n\\n\".join([f\"{section}\" for section in sections])\n",
        "\n",
        "    # Summarize the sections into a final report\n",
        "\n",
        "    instructions = intro_conclusion_instructions.format(topic=topic, formatted_str_sections=formatted_str_sections)\n",
        "    conclusion = llm.invoke([instructions]+[HumanMessage(content=f\"Write the report conclusion\")])\n",
        "    return {\"conclusion\": conclusion.content}\n",
        "\n",
        "def finalize_report(state: ResearchGraphState):\n",
        "    \"\"\" The is the \"reduce\" step where we gather all the sections, combine them, and reflect on them to write the intro/conclusion \"\"\"\n",
        "    # Save full final report\n",
        "    content = state[\"content\"]\n",
        "    if content.startswith(\"## Insights\"):\n",
        "        content = content.strip(\"## Insights\")\n",
        "    if \"## Sources\" in content:\n",
        "        try:\n",
        "            content, sources = content.split(\"\\n## Sources\\n\")\n",
        "        except:\n",
        "            sources = None\n",
        "    else:\n",
        "        sources = None\n",
        "\n",
        "    final_report = state[\"introduction\"] + \"\\n\\n---\\n\\n\" + content + \"\\n\\n---\\n\\n\" + state[\"conclusion\"]\n",
        "    if sources is not None:\n",
        "        final_report += \"\\n\\n## Sources\\n\" + sources\n",
        "    return {\"final_report\": final_report}\n",
        "\n",
        "# Add nodes and edges\n",
        "builder = StateGraph(ResearchGraphState)\n",
        "builder.add_node(\"create_analysts\", create_analysts)\n",
        "builder.add_node(\"human_feedback\", human_feedback)\n",
        "builder.add_node(\"conduct_interview\", interview_builder.compile())\n",
        "builder.add_node(\"write_report\",write_report)\n",
        "builder.add_node(\"write_introduction\",write_introduction)\n",
        "builder.add_node(\"write_conclusion\",write_conclusion)\n",
        "builder.add_node(\"finalize_report\",finalize_report)\n",
        "\n",
        "# Logic\n",
        "builder.add_edge(START, \"create_analysts\")\n",
        "builder.add_edge(\"create_analysts\", \"human_feedback\")\n",
        "builder.add_conditional_edges(\"human_feedback\", initiate_all_interviews, [\"create_analysts\", \"conduct_interview\"])\n",
        "builder.add_edge(\"conduct_interview\", \"write_report\")\n",
        "builder.add_edge(\"conduct_interview\", \"write_introduction\")\n",
        "builder.add_edge(\"conduct_interview\", \"write_conclusion\")\n",
        "builder.add_edge([\"write_conclusion\", \"write_report\", \"write_introduction\"], \"finalize_report\")\n",
        "builder.add_edge(\"finalize_report\", END)\n",
        "\n",
        "# Compile\n",
        "memory = MemorySaver()\n",
        "graph = builder.compile(interrupt_before=['human_feedback'], checkpointer=memory)\n",
        "display(Image(graph.get_graph(xray=1).draw_mermaid_png()))"
      ],
      "metadata": {
        "colab": {
          "base_uri": "https://localhost:8080/",
          "height": 1000
        },
        "id": "J5SclB7M8tzJ",
        "outputId": "26e34d43-da83-4de3-c267-44fa48ae0f9a"
      },
      "execution_count": 42,
      "outputs": [
        {
          "output_type": "display_data",
          "data": {
            "image/png": "[encoded data removed]",
            "text/plain": [
              "<IPython.core.display.Image object>"
            ]
          },
          "metadata": {}
        }
      ]
    },
    {
      "cell_type": "code",
      "source": [
        "# Inputs\n",
        "max_analysts = 3\n",
        "topic = \"The benefits of adopting LangGraph as an agent framework\"\n",
        "thread = {\"configurable\": {\"thread_id\": \"1\"}}\n",
        "\n",
        "# Run the graph until the first interruption\n",
        "for event in graph.stream({\"topic\":topic,\n",
        "                           \"max_analysts\":max_analysts},\n",
        "                          thread,\n",
        "                          stream_mode=\"values\"):\n",
        "\n",
        "    analysts = event.get('analysts', '')\n",
        "    if analysts:\n",
        "        for analyst in analysts:\n",
        "            print(f\"Name: {analyst.name}\")\n",
        "            print(f\"Affiliation: {analyst.affiliation}\")\n",
        "            print(f\"Role: {analyst.role}\")\n",
        "            print(f\"Description: {analyst.description}\")\n",
        "            print(\"-\" * 50)"
      ],
      "metadata": {
        "colab": {
          "base_uri": "https://localhost:8080/"
        },
        "id": "a47tD7Fn-FYh",
        "outputId": "f6e48fcd-1c88-453b-fabc-9f1c1dfade80"
      },
      "execution_count": 43,
      "outputs": [
        {
          "output_type": "stream",
          "name": "stdout",
          "text": [
            "Name: Dr. Emily Carter\n",
            "Affiliation: Tech Innovation Hub\n",
            "Role: AI Framework Specialist\n",
            "Description: Dr. Carter focuses on examining cutting-edge technologies in agent frameworks. She is particularly interested in how LangGraph can enhance AI model performance through its efficient handling of complex data structures and language models.\n",
            "--------------------------------------------------\n",
            "Name: André Fujimoto\n",
            "Affiliation: Green Tech Innovations\n",
            "Role: Sustainability Analyst\n",
            "Description: André analyzes the environmental impact of technology frameworks. He is investigating how adopting LangGraph can reduce computational demand and energy consumption, promoting more sustainable AI practices.\n",
            "--------------------------------------------------\n",
            "Name: Clara Ngozi\n",
            "Affiliation: Enterprise Solutions Inc.\n",
            "Role: Business Integration Consultant\n",
            "Description: Clara specializes in integrating new technologies into business operations. She explores how LangGraph can improve scalability and flexibility in enterprise environments, particularly in handling natural language processing at scale.\n",
            "--------------------------------------------------\n"
          ]
        }
      ]
    },
    {
      "cell_type": "code",
      "source": [
        "# We now update the state as if we are the human_feedback node\n",
        "graph.update_state(thread, {\"human_analyst_feedback\":\n",
        "                                \"Add in the CEO of gen ai native startup\"}, as_node=\"human_feedback\")"
      ],
      "metadata": {
        "colab": {
          "base_uri": "https://localhost:8080/"
        },
        "id": "SGTd35rl-dXc",
        "outputId": "16721756-08cf-45c3-e63e-ba2d555970ca"
      },
      "execution_count": 44,
      "outputs": [
        {
          "output_type": "execute_result",
          "data": {
            "text/plain": [
              "{'configurable': {'thread_id': '1',\n",
              "  'checkpoint_ns': '',\n",
              "  'checkpoint_id': '1eff1c5a-067e-697f-8002-50117efc301f'}}"
            ]
          },
          "metadata": {},
          "execution_count": 44
        }
      ]
    },
    {
      "cell_type": "code",
      "source": [
        "for event in graph.stream(None, thread, stream_mode=\"values\"):\n",
        "    analysts = event.get('analysts', '')\n",
        "    if analysts:\n",
        "        for analyst in analysts:\n",
        "            print(f\"Name: {analyst.name}\")\n",
        "            print(f\"Affiliation: {analyst.affiliation}\")\n",
        "            print(f\"Role: {analyst.role}\")\n",
        "            print(f\"Description: {analyst.description}\")\n",
        "            print(\"-\" * 50)"
      ],
      "metadata": {
        "colab": {
          "base_uri": "https://localhost:8080/"
        },
        "id": "LOw7KU7B-gra",
        "outputId": "b5f0e46b-5590-4609-e0a9-c0233cdcc392"
      },
      "execution_count": 45,
      "outputs": [
        {
          "output_type": "stream",
          "name": "stdout",
          "text": [
            "Name: Dr. Emily Carter\n",
            "Affiliation: Tech Innovation Hub\n",
            "Role: AI Framework Specialist\n",
            "Description: Dr. Carter focuses on examining cutting-edge technologies in agent frameworks. She is particularly interested in how LangGraph can enhance AI model performance through its efficient handling of complex data structures and language models.\n",
            "--------------------------------------------------\n",
            "Name: André Fujimoto\n",
            "Affiliation: Green Tech Innovations\n",
            "Role: Sustainability Analyst\n",
            "Description: André analyzes the environmental impact of technology frameworks. He is investigating how adopting LangGraph can reduce computational demand and energy consumption, promoting more sustainable AI practices.\n",
            "--------------------------------------------------\n",
            "Name: Clara Ngozi\n",
            "Affiliation: Enterprise Solutions Inc.\n",
            "Role: Business Integration Consultant\n",
            "Description: Clara specializes in integrating new technologies into business operations. She explores how LangGraph can improve scalability and flexibility in enterprise environments, particularly in handling natural language processing at scale.\n",
            "--------------------------------------------------\n",
            "Name: Dr. Sarah Thompson\n",
            "Affiliation: Lambda Computing\n",
            "Role: Research Scientist\n",
            "Description: Dr. Thompson focuses on the technical intricacies and advancements made possible through frameworks like LangGraph. She is interested in how LangGraph's architecture optimizes agent communication and enhances scalability, making them suitable for high-demand applications.\n",
            "--------------------------------------------------\n",
            "Name: Michael Nguyen\n",
            "Affiliation: AI Adoption Advisors\n",
            "Role: Enterprise Adoption Consultant\n",
            "Description: Michael evaluates the practical benefits and challenges businesses face when integrating new technologies like LangGraph into existing systems. His interest lies in demonstrating how LangGraph can streamline operations and provide competitive advantages through increased efficiency.\n",
            "--------------------------------------------------\n",
            "Name: Elena Rivera\n",
            "Affiliation: CEO, GenAI Innovations\n",
            "Role: Startup Innovator\n",
            "Description: Elena is the CEO of a startup native to the generative AI market. Her focus is on leveraging LangGraph to accelerate the development of innovative AI-powered products, particularly looking at how LangGraph's framework can enhance product adaptability and reduce time-to-market for AI solutions.\n",
            "--------------------------------------------------\n"
          ]
        }
      ]
    },
    {
      "cell_type": "code",
      "source": [
        "graph.update_state(thread, {\"human_analyst_feedback\":\n",
        "                            None}, as_node=\"human_feedback\")"
      ],
      "metadata": {
        "colab": {
          "base_uri": "https://localhost:8080/"
        },
        "id": "VdGAEIoO-lQJ",
        "outputId": "c76dcb75-2cac-4a8d-9b1a-43ca3c71109d"
      },
      "execution_count": 46,
      "outputs": [
        {
          "output_type": "execute_result",
          "data": {
            "text/plain": [
              "{'configurable': {'thread_id': '1',\n",
              "  'checkpoint_ns': '',\n",
              "  'checkpoint_id': '1eff1c5a-2fab-658e-8004-91a76021d8f3'}}"
            ]
          },
          "metadata": {},
          "execution_count": 46
        }
      ]
    },
    {
      "cell_type": "code",
      "source": [
        "for event in graph.stream(None, thread, stream_mode=\"updates\"):\n",
        "    print(\"--Node--\")\n",
        "    node_name = next(iter(event.keys()))\n",
        "    print(node_name)"
      ],
      "metadata": {
        "colab": {
          "base_uri": "https://localhost:8080/"
        },
        "id": "xMeTJ0Tz-oLb",
        "outputId": "ddde0ea0-c909-4246-b1d8-d34e33dae8c5"
      },
      "execution_count": 48,
      "outputs": [
        {
          "output_type": "stream",
          "name": "stdout",
          "text": [
            "--Node--\n",
            "conduct_interview\n",
            "--Node--\n",
            "conduct_interview\n",
            "--Node--\n",
            "conduct_interview\n",
            "--Node--\n",
            "write_conclusion\n",
            "--Node--\n",
            "write_introduction\n",
            "--Node--\n",
            "write_report\n",
            "--Node--\n",
            "finalize_report\n"
          ]
        }
      ]
    },
    {
      "cell_type": "code",
      "source": [
        "from IPython.display import Markdown\n",
        "final_state = graph.get_state(thread)\n",
        "report = final_state.values.get('final_report')\n",
        "Markdown(report)"
      ],
      "metadata": {
        "colab": {
          "base_uri": "https://localhost:8080/",
          "height": 979
        },
        "id": "A1NgXVNy-p4J",
        "outputId": "28de059a-c4f5-45ce-f700-006c2ba3f8e2"
      },
      "execution_count": 49,
      "outputs": [
        {
          "output_type": "execute_result",
          "data": {
            "text/plain": [
              "<IPython.core.display.Markdown object>"
            ],
            "text/markdown": "# Harnessing LangGraph: Transforming High-Demand Applications\n\n## Introduction\n\nIn the dynamic realm of technological advancement, LangGraph emerges as a pivotal agent framework reshaping high-demand applications. This report delves into LangGraph's revolutionary architecture, highlighting its impact on diverse domains such as machine translation, real-time data analysis, and machine learning. By employing a modular, graph-based orchestration, LangGraph enhances scalability and optimizes agent communication. It seamlessly integrates large language models like GPT-4o and empowers intelligent decision-making in complex workflows. From facilitating seamless business technology integration to accelerating AI product development, LangGraph offers a cutting-edge solution that enables businesses and developers to thrive in an increasingly competitive landscape.\n\n---\n\n\n\nLangGraph has emerged as a transformative agent framework that offers significant advantages for high-demand applications, integration into business technology, and rapid AI product development. Its unique contribution stems from its graph-based orchestration and modular architecture, optimizing agent communication and enhancing scalability.\n\nCentral to LangGraph’s advancements is its impact on workflow processes in machine translation, real-time data analysis, and machine learning. LangGraph distinguishes itself through modularity and graph-based orchestration, exemplifying superior solutions over traditional approaches. Notably, in machine translation, modules like TranslateEnAgent, TranslateFrenchAgent, and TranslateJpAgent leverage large language models (LLMs) such as GPT-4o to deliver contextually accurate translations, overcoming challenges found in conventional systems [1][2]. This specificity bolsters the automation of language tasks and reaffirms LangGraph’s capacity to facilitate precise global communication.\n\nFor real-time data analysis, LangGraph’s graph-based workflow construction addresses inefficiencies found in static workflows and stateful computations of traditional big data environments. Its dynamic and adaptable framework accommodates contemporary data-driven applications, thus offering businesses unprecedented operational flexibility and efficiency [2][3].\n\nIn machine learning, LangGraph’s integration with Spark fosters workflow scalability and visualizations crucial for modern tasks. Through automating essential processes like data preprocessing, feature engineering, and model evaluation, LangGraph addresses the demands of handling extensive data volumes and complex workflows [2]. This capability is complemented by integrating with systems like Agent AI and CrewAI, where coordinated agent actions lead to improved team performance and system reliability [3].\n\nThe business case for LangGraph further cements its value in enhancing technology integration within enterprises. By embedding advanced LLMs, LangGraph facilitates intelligent task management and bolsters business technology ecosystems with efficient resource allocation and task handling. This empowers organizations to adapt rapidly to market shifts and maintain a competitive edge [2][4].\n\nLangGraph is likewise pivotal in the arena of rapid AI product development. As startups aim for innovation with the shortest possible time-to-market, LangGraph's capacity to orchestrate complex processes and its inherent adaptability make it essential for AI innovation [1]. Startup CEOs, like Elena, recognize LangGraph's potential to streamline AI-powered product deployments, offering significant strategic advantages in dynamic markets [3].\n\nIn summary, LangGraph stands out for its optimization of agent frameworks, facilitating high-performance communications, decision-making, and robust operational capabilities. Its role in machine translation, data analytics, and machine learning, coupled with strategic business integration and product development capacities, underscores its importance in the current and future tech landscapes.\n\n\n---\n\n## Conclusion\n\nLangGraph has emerged as a vital player in advancing technical architectures for high-demand applications and revolutionizing business technology integration. By optimizing agent-based frameworks through modularity and graph-based orchestration, LangGraph enhances workflows in machine translation, real-time data analysis, and machine learning. Its seamless integration with large language models and platforms like Spark fosters enhanced scalability, automation, and decision-making. Businesses not only gain operational efficiency but also the ability to adapt rapidly to market demands. For AI startups and established enterprises alike, LangGraph offers a compelling solution to leverage cutting-edge technologies for competitive advantage and rapid AI product development.\n\n## Sources\n[1] https://arxiv.org/abs/Agent  \n[2] https://arxiv.org/abs/Research  \n[3] https://arxiv.org/abs/Intelligent  \n[4] https://www.linkedin.com/pulse/langgraph-challenges-opportunities-multi-agent-riyaz-jaleel-ja3wc  \n[5] https://www.getzep.com/ai-agents/langchain-agents-langgraph  \n[6] https://arxiv.org/abs/Exploratio"
          },
          "metadata": {},
          "execution_count": 49
        }
      ]
    },
    {
      "cell_type": "code",
      "source": [],
      "metadata": {
        "id": "jy4UE4B4_bGN"
      },
      "execution_count": null,
      "outputs": []
    },
    {
      "cell_type": "code",
      "source": [],
      "metadata": {
        "id": "a5vpW3_hvh7N"
      },
      "execution_count": null,
      "outputs": []
    }
  ]
}